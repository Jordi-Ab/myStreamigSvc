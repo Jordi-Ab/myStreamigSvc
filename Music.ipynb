{
 "cells": [
  {
   "cell_type": "code",
   "execution_count": 43,
   "metadata": {},
   "outputs": [],
   "source": [
    "from google_connection import Connect\n",
    "from googleapiclient.http import MediaIoBaseDownload\n",
    "import io\n",
    "from pydub import AudioSegment\n",
    "from pydub.playback import play\n",
    "import subprocess\n",
    "from tempfile import NamedTemporaryFile, TemporaryDirectory\n",
    "import os"
   ]
  },
  {
   "cell_type": "code",
   "execution_count": 56,
   "metadata": {},
   "outputs": [],
   "source": [
    " def gdrive_open_file(file_id):\n",
    "    # Get byte stream\n",
    "    data = gdrive_open_as_bytes(file_id)\n",
    "    return data\n",
    "\n",
    "def gdrive_open_as_bytes(file_id):\n",
    "    # Open arbitary file as bytestream\n",
    "    request = drive_svc.files().get_media(fileId=file_id)\n",
    "    stream = io.BytesIO()\n",
    "    downloader = MediaIoBaseDownload(stream, request)\n",
    "    done = False\n",
    "    while done is False:\n",
    "        status, done = downloader.next_chunk()\n",
    "    return stream.getvalue()\n",
    "\n",
    "def play_song(audio_seg, player='vlc'):\n",
    "    \n",
    "    if player == 'vlc':\n",
    "        command = \"/Applications/VLC.app/Contents/MacOS/VLC\"\n",
    "    elif player == 'ffplay':\n",
    "        command = player\n",
    "    else:\n",
    "        raise ValueError('Only \"vlc\" and \"ffplay\" as currently supported.')\n",
    "    \n",
    "    with NamedTemporaryFile(\"w+b\", suffix=\".wav\") as f:\n",
    "        song.export(f.name, 'wav')\n",
    "        proc = subprocess.call([command, f.name])\n",
    "\n",
    "def glue_songs(files_dict):\n",
    "    glued_songs = AudioSegment.empty()\n",
    "    for name, audio_seg in files_dict.items():        \n",
    "        glued_songs += audio_seg\n",
    "    return glued_songs\n",
    "\n",
    "def play_files_continously(files_dict, play_with = 'vlc'):\n",
    "    glued_songs=glue_songs(files_dict)\n",
    "    play_song(glued_songs, player=play_with)\n",
    "\n",
    "def play_files_as_playlist(files):\n",
    "    # create the playlist\n",
    "    with TemporaryDirectory() as td:\n",
    "        f_names = [os.path.join(td, f'{n}') for n in files.keys()]\n",
    "        print('exporting playlist to temp file ...')\n",
    "        with open(os.path.join(td,'playlist.m3u'), 'w+t') as playlist:\n",
    "            for name in f_names:\n",
    "                song_name = name.split('/')[-1]\n",
    "                audio_seg = files[song_name]\n",
    "                playlist.writelines([name+'.wav\\n'])\n",
    "                with open(name+'.wav', 'w+b') as tempsong:\n",
    "                    audio_seg.export(tempsong.name, 'wav')\n",
    "        \n",
    "        print('Playing on VLC ...')\n",
    "        proc = subprocess.call(\n",
    "            [\"/Applications/VLC.app/Contents/MacOS/VLC\", playlist.name]\n",
    "        )\n",
    "        \n",
    "def to_pydub_audiosegment(drive_songs_dict):\n",
    "    pass\n",
    "\n",
    "def choose_song(parent_folder_id):\n",
    "    \n",
    "    songs = drive_svc.files().list(\n",
    "        q = \"'{folderId}' in parents\".format(folderId=parent_folder_id),\n",
    "        spaces='drive',\n",
    "        fields='nextPageToken, files(id, name)',\n",
    "        pageToken=None\n",
    "    ).execute()\n",
    "    \n",
    "    song_formats = ['flac', 'm4a', 'mp3', 'wav']\n",
    "    names = sorted([f['name'] for f in songs['files'] if f['name'].split('.')[-1] in song_formats])\n",
    "    \n",
    "    while True:\n",
    "        choice_str = \"\"\"\n",
    "Choose a song from the below list:\n",
    "0) Playlist with all songs\n",
    "1) All album glued as one continuous song\n",
    "\"\"\"\n",
    "        for i, n in enumerate(names):\n",
    "            choice_str += \"{0}) {1}\\n\".format(i+2, n)\n",
    "        print(choice_str)\n",
    "        selection = input('Enter number of the selection: ')\n",
    "        try: \n",
    "            selection = int(selection) # Try converting the input to integer.\n",
    "            if selection == 0:\n",
    "                # check if there is already \n",
    "                # create playlist with all songs\n",
    "                return 0\n",
    "            elif selection == 1:\n",
    "                # glue all songs together and play it\n",
    "                return 1\n",
    "            elif (selection>1 and selection<len(music_folders['files'])+2): \n",
    "                # Sucessfull choice.\n",
    "                print(\" \")\n",
    "                return songs['files'][selection-2]             \n",
    "            else: \n",
    "                # Inputed a number not in the list of options.\n",
    "                print(\"Error: Selection not in the valid list.\") \n",
    "        except ValueError: \n",
    "            print(\"That's not a number\") # If user didn't entered an integer\n",
    "    \n",
    "def choose_album_folder(parent_folder_id):\n",
    "    \n",
    "    music_folders = drive_svc.files().list(\n",
    "        q = \"'{folderId}' in parents\".format(folderId=parent_folder_id),\n",
    "        spaces='drive',\n",
    "        fields='nextPageToken, files(id, name)',\n",
    "        pageToken=None\n",
    "    ).execute()\n",
    "    \n",
    "    while True:\n",
    "        choice_str = \"\"\"Choose a folder from the below list:\\n\"\"\"\n",
    "        for i, n in enumerate(music_folders['files']):\n",
    "            choice_str += \"{0}) {1}\\n\".format(i, n['name'])\n",
    "        print(choice_str)\n",
    "        selection = input('Enter number of the selected music folder: ')\n",
    "        try: \n",
    "            selection = int(selection) # Try converting the input to integer.\n",
    "            if (selection>=0 and selection<len(music_folders['files'])): \n",
    "                # Sucessfull choice.\n",
    "                print(\" \")\n",
    "                return music_folders['files'][selection]             \n",
    "            else: \n",
    "                # Inputed a number not in the list of options.\n",
    "                print(\"Error: Selection not in the valid list.\") \n",
    "        except ValueError: \n",
    "            print(\"That's not a number\") # If user didn't entered an integer"
   ]
  },
  {
   "cell_type": "code",
   "execution_count": 14,
   "metadata": {},
   "outputs": [],
   "source": [
    "drive_conn = Connect()\n",
    "drive_svc = drive_conn.get_service()"
   ]
  },
  {
   "cell_type": "code",
   "execution_count": 15,
   "metadata": {},
   "outputs": [],
   "source": [
    "music_folder = '1XS5yDT8Ym3ME0SUywRuMFm5AGxaSIzaN'"
   ]
  },
  {
   "cell_type": "code",
   "execution_count": 46,
   "metadata": {},
   "outputs": [
    {
     "data": {
      "text/plain": [
       "3"
      ]
     },
     "execution_count": 46,
     "metadata": {},
     "output_type": "execute_result"
    }
   ],
   "source": [
    "len(music_folders['files'])"
   ]
  },
  {
   "cell_type": "code",
   "execution_count": 59,
   "metadata": {
    "scrolled": true
   },
   "outputs": [
    {
     "name": "stdout",
     "output_type": "stream",
     "text": [
      "Choose a folder from the below list:\n",
      "0) Opeth\n",
      "1) Pink Floyd - The Wall [MFSL 1991] (1979) FLAC\n",
      "2) Iron Maiden - Seventh Son of a Seventh Son\n",
      "\n",
      "Enter number of the selected music folder: 0\n",
      " \n",
      "\n",
      "Choose a song from the below list:\n",
      "0) Playlist with all songs\n",
      "1) All album glued as one continuous song\n",
      "2) 01 - The Leper Affinity.flac\n",
      "3) 01 - The Leper Affinity.m4a\n",
      "\n",
      "Enter number of the selection: 2\n",
      " \n"
     ]
    }
   ],
   "source": [
    "album_chosen = choose_album_folder(parent_folder_id=music_folder)\n",
    "song_chosen = choose_song(album_chosen['id'])"
   ]
  },
  {
   "cell_type": "code",
   "execution_count": 60,
   "metadata": {},
   "outputs": [
    {
     "data": {
      "text/plain": [
       "{'id': '1Hd4xLYPw4m3fv73dwjWI_tIXrqqfhD4Q', 'name': 'Opeth'}"
      ]
     },
     "execution_count": 60,
     "metadata": {},
     "output_type": "execute_result"
    }
   ],
   "source": [
    "song_chosen"
   ]
  },
  {
   "cell_type": "code",
   "execution_count": 25,
   "metadata": {},
   "outputs": [],
   "source": [
    "files_inside = drive_svc.files().list(\n",
    "    q = \"'{folderId}' in parents\".format(folderId=choice['id']),\n",
    "    #q=\"mimeType='image/jpeg'\",\n",
    "    spaces='drive',\n",
    "    fields='nextPageToken, files(id, name)',\n",
    "    pageToken=None\n",
    ").execute()"
   ]
  },
  {
   "cell_type": "code",
   "execution_count": 26,
   "metadata": {
    "scrolled": true
   },
   "outputs": [],
   "source": [
    "#song_formats = ['flac', 'm4a', 'mp3', 'wav']\n",
    "song_formats = ['m4a']\n",
    "names = sorted([f['name'] for f in files_inside['files'] if f['name'].split('.')[-1] in song_formats])"
   ]
  },
  {
   "cell_type": "code",
   "execution_count": 27,
   "metadata": {},
   "outputs": [
    {
     "data": {
      "text/plain": [
       "['01 - The Leper Affinity.m4a']"
      ]
     },
     "execution_count": 27,
     "metadata": {},
     "output_type": "execute_result"
    }
   ],
   "source": [
    "names"
   ]
  },
  {
   "cell_type": "code",
   "execution_count": 28,
   "metadata": {},
   "outputs": [],
   "source": [
    "files = {}\n",
    "for n in names:\n",
    "    for f in files_inside['files']:\n",
    "        if f['name'] == n:\n",
    "            \n",
    "            song_name = n.split('.')[0]\n",
    "            file_fmt = n.split('.')[-1]\n",
    "            \n",
    "            file_data = gdrive_open_file(file_id=f['id'])\n",
    "            song = AudioSegment.from_file(\n",
    "                io.BytesIO(file_data), \n",
    "                format=file_fmt\n",
    "            )\n",
    "            files[song_name] = song"
   ]
  },
  {
   "cell_type": "code",
   "execution_count": 29,
   "metadata": {},
   "outputs": [
    {
     "data": {
      "text/plain": [
       "dict_keys(['01 - The Leper Affinity'])"
      ]
     },
     "execution_count": 29,
     "metadata": {},
     "output_type": "execute_result"
    }
   ],
   "source": [
    "files.keys()"
   ]
  },
  {
   "cell_type": "code",
   "execution_count": 33,
   "metadata": {
    "scrolled": true
   },
   "outputs": [
    {
     "name": "stdout",
     "output_type": "stream",
     "text": [
      "exporting playlist to temp file ...\n",
      "Playing on VLC ...\n"
     ]
    },
    {
     "ename": "KeyboardInterrupt",
     "evalue": "",
     "output_type": "error",
     "traceback": [
      "\u001b[0;31m---------------------------------------------------------------------------\u001b[0m",
      "\u001b[0;31mKeyboardInterrupt\u001b[0m                         Traceback (most recent call last)",
      "\u001b[0;32m<ipython-input-33-8da4f49a6400>\u001b[0m in \u001b[0;36m<module>\u001b[0;34m\u001b[0m\n\u001b[0;32m----> 1\u001b[0;31m \u001b[0mplay_files_as_playlist\u001b[0m\u001b[0;34m(\u001b[0m\u001b[0mfiles\u001b[0m\u001b[0;34m)\u001b[0m\u001b[0;34m\u001b[0m\u001b[0;34m\u001b[0m\u001b[0m\n\u001b[0m",
      "\u001b[0;32m<ipython-input-32-13a396bed3d6>\u001b[0m in \u001b[0;36mplay_files_as_playlist\u001b[0;34m(files)\u001b[0m\n\u001b[1;32m     52\u001b[0m        \u001b[0mprint\u001b[0m\u001b[0;34m(\u001b[0m\u001b[0;34m'Playing on VLC ...'\u001b[0m\u001b[0;34m)\u001b[0m\u001b[0;34m\u001b[0m\u001b[0;34m\u001b[0m\u001b[0m\n\u001b[1;32m     53\u001b[0m        proc = subprocess.call(\n\u001b[0;32m---> 54\u001b[0;31m            \u001b[0;34m[\u001b[0m\u001b[0;34m\"/Applications/VLC.app/Contents/MacOS/VLC\"\u001b[0m\u001b[0;34m,\u001b[0m \u001b[0mplaylist\u001b[0m\u001b[0;34m.\u001b[0m\u001b[0mname\u001b[0m\u001b[0;34m]\u001b[0m\u001b[0;34m\u001b[0m\u001b[0;34m\u001b[0m\u001b[0m\n\u001b[0m\u001b[1;32m     55\u001b[0m        )\n",
      "\u001b[0;32m~/opt/anaconda3/envs/music/lib/python3.7/subprocess.py\u001b[0m in \u001b[0;36mcall\u001b[0;34m(timeout, *popenargs, **kwargs)\u001b[0m\n\u001b[1;32m    339\u001b[0m     \u001b[0;32mwith\u001b[0m \u001b[0mPopen\u001b[0m\u001b[0;34m(\u001b[0m\u001b[0;34m*\u001b[0m\u001b[0mpopenargs\u001b[0m\u001b[0;34m,\u001b[0m \u001b[0;34m**\u001b[0m\u001b[0mkwargs\u001b[0m\u001b[0;34m)\u001b[0m \u001b[0;32mas\u001b[0m \u001b[0mp\u001b[0m\u001b[0;34m:\u001b[0m\u001b[0;34m\u001b[0m\u001b[0;34m\u001b[0m\u001b[0m\n\u001b[1;32m    340\u001b[0m         \u001b[0;32mtry\u001b[0m\u001b[0;34m:\u001b[0m\u001b[0;34m\u001b[0m\u001b[0;34m\u001b[0m\u001b[0m\n\u001b[0;32m--> 341\u001b[0;31m             \u001b[0;32mreturn\u001b[0m \u001b[0mp\u001b[0m\u001b[0;34m.\u001b[0m\u001b[0mwait\u001b[0m\u001b[0;34m(\u001b[0m\u001b[0mtimeout\u001b[0m\u001b[0;34m=\u001b[0m\u001b[0mtimeout\u001b[0m\u001b[0;34m)\u001b[0m\u001b[0;34m\u001b[0m\u001b[0;34m\u001b[0m\u001b[0m\n\u001b[0m\u001b[1;32m    342\u001b[0m         \u001b[0;32mexcept\u001b[0m\u001b[0;34m:\u001b[0m  \u001b[0;31m# Including KeyboardInterrupt, wait handled that.\u001b[0m\u001b[0;34m\u001b[0m\u001b[0;34m\u001b[0m\u001b[0m\n\u001b[1;32m    343\u001b[0m             \u001b[0mp\u001b[0m\u001b[0;34m.\u001b[0m\u001b[0mkill\u001b[0m\u001b[0;34m(\u001b[0m\u001b[0;34m)\u001b[0m\u001b[0;34m\u001b[0m\u001b[0;34m\u001b[0m\u001b[0m\n",
      "\u001b[0;32m~/opt/anaconda3/envs/music/lib/python3.7/subprocess.py\u001b[0m in \u001b[0;36mwait\u001b[0;34m(self, timeout)\u001b[0m\n\u001b[1;32m   1017\u001b[0m             \u001b[0mendtime\u001b[0m \u001b[0;34m=\u001b[0m \u001b[0m_time\u001b[0m\u001b[0;34m(\u001b[0m\u001b[0;34m)\u001b[0m \u001b[0;34m+\u001b[0m \u001b[0mtimeout\u001b[0m\u001b[0;34m\u001b[0m\u001b[0;34m\u001b[0m\u001b[0m\n\u001b[1;32m   1018\u001b[0m         \u001b[0;32mtry\u001b[0m\u001b[0;34m:\u001b[0m\u001b[0;34m\u001b[0m\u001b[0;34m\u001b[0m\u001b[0m\n\u001b[0;32m-> 1019\u001b[0;31m             \u001b[0;32mreturn\u001b[0m \u001b[0mself\u001b[0m\u001b[0;34m.\u001b[0m\u001b[0m_wait\u001b[0m\u001b[0;34m(\u001b[0m\u001b[0mtimeout\u001b[0m\u001b[0;34m=\u001b[0m\u001b[0mtimeout\u001b[0m\u001b[0;34m)\u001b[0m\u001b[0;34m\u001b[0m\u001b[0;34m\u001b[0m\u001b[0m\n\u001b[0m\u001b[1;32m   1020\u001b[0m         \u001b[0;32mexcept\u001b[0m \u001b[0mKeyboardInterrupt\u001b[0m\u001b[0;34m:\u001b[0m\u001b[0;34m\u001b[0m\u001b[0;34m\u001b[0m\u001b[0m\n\u001b[1;32m   1021\u001b[0m             \u001b[0;31m# https://bugs.python.org/issue25942\u001b[0m\u001b[0;34m\u001b[0m\u001b[0;34m\u001b[0m\u001b[0;34m\u001b[0m\u001b[0m\n",
      "\u001b[0;32m~/opt/anaconda3/envs/music/lib/python3.7/subprocess.py\u001b[0m in \u001b[0;36m_wait\u001b[0;34m(self, timeout)\u001b[0m\n\u001b[1;32m   1651\u001b[0m                         \u001b[0;32mif\u001b[0m \u001b[0mself\u001b[0m\u001b[0;34m.\u001b[0m\u001b[0mreturncode\u001b[0m \u001b[0;32mis\u001b[0m \u001b[0;32mnot\u001b[0m \u001b[0;32mNone\u001b[0m\u001b[0;34m:\u001b[0m\u001b[0;34m\u001b[0m\u001b[0;34m\u001b[0m\u001b[0m\n\u001b[1;32m   1652\u001b[0m                             \u001b[0;32mbreak\u001b[0m  \u001b[0;31m# Another thread waited.\u001b[0m\u001b[0;34m\u001b[0m\u001b[0;34m\u001b[0m\u001b[0m\n\u001b[0;32m-> 1653\u001b[0;31m                         \u001b[0;34m(\u001b[0m\u001b[0mpid\u001b[0m\u001b[0;34m,\u001b[0m \u001b[0msts\u001b[0m\u001b[0;34m)\u001b[0m \u001b[0;34m=\u001b[0m \u001b[0mself\u001b[0m\u001b[0;34m.\u001b[0m\u001b[0m_try_wait\u001b[0m\u001b[0;34m(\u001b[0m\u001b[0;36m0\u001b[0m\u001b[0;34m)\u001b[0m\u001b[0;34m\u001b[0m\u001b[0;34m\u001b[0m\u001b[0m\n\u001b[0m\u001b[1;32m   1654\u001b[0m                         \u001b[0;31m# Check the pid and loop as waitpid has been known to\u001b[0m\u001b[0;34m\u001b[0m\u001b[0;34m\u001b[0m\u001b[0;34m\u001b[0m\u001b[0m\n\u001b[1;32m   1655\u001b[0m                         \u001b[0;31m# return 0 even without WNOHANG in odd situations.\u001b[0m\u001b[0;34m\u001b[0m\u001b[0;34m\u001b[0m\u001b[0;34m\u001b[0m\u001b[0m\n",
      "\u001b[0;32m~/opt/anaconda3/envs/music/lib/python3.7/subprocess.py\u001b[0m in \u001b[0;36m_try_wait\u001b[0;34m(self, wait_flags)\u001b[0m\n\u001b[1;32m   1609\u001b[0m             \u001b[0;34m\"\"\"All callers to this function MUST hold self._waitpid_lock.\"\"\"\u001b[0m\u001b[0;34m\u001b[0m\u001b[0;34m\u001b[0m\u001b[0m\n\u001b[1;32m   1610\u001b[0m             \u001b[0;32mtry\u001b[0m\u001b[0;34m:\u001b[0m\u001b[0;34m\u001b[0m\u001b[0;34m\u001b[0m\u001b[0m\n\u001b[0;32m-> 1611\u001b[0;31m                 \u001b[0;34m(\u001b[0m\u001b[0mpid\u001b[0m\u001b[0;34m,\u001b[0m \u001b[0msts\u001b[0m\u001b[0;34m)\u001b[0m \u001b[0;34m=\u001b[0m \u001b[0mos\u001b[0m\u001b[0;34m.\u001b[0m\u001b[0mwaitpid\u001b[0m\u001b[0;34m(\u001b[0m\u001b[0mself\u001b[0m\u001b[0;34m.\u001b[0m\u001b[0mpid\u001b[0m\u001b[0;34m,\u001b[0m \u001b[0mwait_flags\u001b[0m\u001b[0;34m)\u001b[0m\u001b[0;34m\u001b[0m\u001b[0;34m\u001b[0m\u001b[0m\n\u001b[0m\u001b[1;32m   1612\u001b[0m             \u001b[0;32mexcept\u001b[0m \u001b[0mChildProcessError\u001b[0m\u001b[0;34m:\u001b[0m\u001b[0;34m\u001b[0m\u001b[0;34m\u001b[0m\u001b[0m\n\u001b[1;32m   1613\u001b[0m                 \u001b[0;31m# This happens if SIGCLD is set to be ignored or waiting\u001b[0m\u001b[0;34m\u001b[0m\u001b[0;34m\u001b[0m\u001b[0;34m\u001b[0m\u001b[0m\n",
      "\u001b[0;31mKeyboardInterrupt\u001b[0m: "
     ]
    }
   ],
   "source": [
    "play_files_as_playlist(files)"
   ]
  },
  {
   "cell_type": "code",
   "execution_count": null,
   "metadata": {},
   "outputs": [],
   "source": []
  }
 ],
 "metadata": {
  "kernelspec": {
   "display_name": "Python 3",
   "language": "python",
   "name": "python3"
  },
  "language_info": {
   "codemirror_mode": {
    "name": "ipython",
    "version": 3
   },
   "file_extension": ".py",
   "mimetype": "text/x-python",
   "name": "python",
   "nbconvert_exporter": "python",
   "pygments_lexer": "ipython3",
   "version": "3.7.7"
  }
 },
 "nbformat": 4,
 "nbformat_minor": 4
}
