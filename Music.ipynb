{
 "cells": [
  {
   "cell_type": "code",
   "execution_count": 1,
   "metadata": {},
   "outputs": [],
   "source": [
    "from tools import *\n",
    "import random"
   ]
  },
  {
   "cell_type": "code",
   "execution_count": 2,
   "metadata": {},
   "outputs": [],
   "source": [
    "GD_SVC = GoogleDrive()\n",
    "SONG_FORMATS = ['flac', 'm4a', 'mp3', 'wav']\n",
    "MUSIC_FOLDER = '1XS5yDT8Ym3ME0SUywRuMFm5AGxaSIzaN'"
   ]
  },
  {
   "cell_type": "code",
   "execution_count": 3,
   "metadata": {},
   "outputs": [],
   "source": [
    "def choose_song(parent_folder_id):\n",
    "\n",
    "    files = GD_SVC.list_files_on_folder(parent_folder_id)\n",
    "    songs = [f for f in files if f['name'].split('.')[-1] in SONG_FORMATS]\n",
    "    song_names = sorted([f['name'] for f in files if f['name'].split('.')[-1] in SONG_FORMATS])\n",
    "    \n",
    "    while True:\n",
    "        choice_str = \"\"\"\n",
    "Choose a song from the below list:\n",
    "0) Playlist with all songs in order\n",
    "1) Playlist with all songs shuffled\n",
    "2) All album glued as one continuous song\n",
    "\"\"\"\n",
    "        for i, n in enumerate(song_names):\n",
    "            choice_str += \"{0}) {1}\\n\".format(i+3, n)\n",
    "        print(choice_str)\n",
    "        selection = input('Enter number of the selection: ')\n",
    "        try: \n",
    "            selection = int(selection) # Try converting the input to integer.\n",
    "            if selection == 0:\n",
    "                # create playlist with all songs in order\n",
    "                return 'all', files\n",
    "            elif selection == 1:\n",
    "                # create playlist with all songs shuffled\n",
    "                return 'shuffle', files\n",
    "            elif selection == 2:\n",
    "                # glue all songs together and play it\n",
    "                return 'glued', files\n",
    "            elif (selection>2 and selection<len(music_folders)+3): \n",
    "                # Single song selected.\n",
    "                return 'single', files[selection-3]            \n",
    "            else: \n",
    "                # Inputed a number not in the list of options.\n",
    "                print(\"Error: Selection not in the valid list.\") \n",
    "        except ValueError: \n",
    "            print(\"That's not a number\") # If user didn't entered an integer\n",
    "\n",
    "def choose_artist(parent_folder_id):\n",
    "\n",
    "    files = GD_SVC.list_files_on_folder(parent_folder_id)\n",
    "    artist_folders = [n for n in files if len(n['name'].split('.'))==1]\n",
    "    \n",
    "    while True:\n",
    "        choice_str = \"\"\"Choose a folder from the below list:\\n\"\"\"\n",
    "        for i, n in enumerate(artist_folders):\n",
    "            choice_str += \"{0}) {1}\\n\".format(i, n['name'])\n",
    "        print(choice_str)\n",
    "        selection = input('Enter number of the selected folder: ')\n",
    "        try: \n",
    "            selection = int(selection) # Try converting the input to integer.\n",
    "            if (selection>=0 and selection<len(artist_folders)): \n",
    "                # Sucessfull choice.\n",
    "                print(\" \")\n",
    "                return artist_folders[selection]             \n",
    "            else: \n",
    "                # Inputed a number not in the list of options.\n",
    "                print(\"Error: Selection not in the valid list.\") \n",
    "        except ValueError: \n",
    "            print(\"That's not a number\") # If user didn't entered an integer\n",
    "\n",
    "def choose_album(parent_folder_id):\n",
    "\n",
    "    files = GD_SVC.list_files_on_folder(parent_folder_id)\n",
    "    songs = sorted([f['name'] for f in files if f['name'].split('.')[-1] in SONG_FORMATS])\n",
    "\n",
    "    if len(songs)>0:\n",
    "        # There are songs inside this folder\n",
    "        return None\n",
    "    else:\n",
    "        album_folders = [n for n in files if len(n['name'].split('.'))==1]\n",
    "        while True:\n",
    "            choice_str = \"\"\"Choose a folder from the below list:\\n\"\"\"\n",
    "            for i, n in enumerate(album_folders):\n",
    "                choice_str += \"{0}) {1}\\n\".format(i, n['name'])\n",
    "            print(choice_str)\n",
    "            selection = input('Enter number of the selected music folder: ')\n",
    "            try: \n",
    "                selection = int(selection) # Try converting the input to integer.\n",
    "                if (selection>=0 and selection<len(album_folders)): \n",
    "                    # Sucessfull choice.\n",
    "                    print(\" \")\n",
    "                    return album_folders[selection]             \n",
    "                else: \n",
    "                    # Inputed a number not in the list of options.\n",
    "                    print(\"Error: Selection not in the valid list.\") \n",
    "            except ValueError: \n",
    "                print(\"That's not a number\") # If user didn't entered an integer\n",
    "                \n",
    "def to_pydub_audiosegment(song_names, drive_songs_dict):\n",
    "    print('Creating playlist data, it might take some time ... ')\n",
    "    files = {}\n",
    "    for n in song_names:\n",
    "        for f in drive_songs_dict:\n",
    "            if f['name'] == n:\n",
    "\n",
    "                song_name = n.split('.')[0]\n",
    "                file_fmt = n.split('.')[-1]\n",
    "\n",
    "                file_data = GD_SVC.open_file(file_id=f['id'])\n",
    "                song = AudioSegment.from_file(\n",
    "                    io.BytesIO(file_data), \n",
    "                    format=file_fmt\n",
    "                )\n",
    "                files[song_name] = song\n",
    "    return files\n",
    "    \n",
    "def launch_vlc_with_selection(selection_type, songs_inside_drive_folder):\n",
    "    if selection_type in ['all', 'glued', 'single']:\n",
    "        song_names = sorted(\n",
    "            [\n",
    "                f['name'] for f in songs_inside_drive_folder if f['name'].split('.')[-1] in SONG_FORMATS\n",
    "            ]\n",
    "        )\n",
    "        song_info = to_pydub_audiosegment(song_names, songs_inside_drive_folder)\n",
    "        play_files_as_playlist(song_info)\n",
    "    else:\n",
    "        song_names = random.shuffle(\n",
    "            [\n",
    "                f['name'] for f in songs_inside_drive_folder if f['name'].split('.')[-1] in SONG_FORMATS\n",
    "            ]\n",
    "        )\n",
    "        song_info = to_pydub_audiosegment(song_names, songs_inside_drive_folder)\n",
    "        play_files_continuously(song_info)"
   ]
  },
  {
   "cell_type": "code",
   "execution_count": null,
   "metadata": {
    "scrolled": true
   },
   "outputs": [
    {
     "name": "stdout",
     "output_type": "stream",
     "text": [
      "Choose a folder from the below list:\n",
      "0) Led Zeppelin\n",
      "1) Opeth\n",
      "2) Pink Floyd - The Wall [MFSL 1991] (1979) FLAC\n",
      "3) Iron Maiden - Seventh Son of a Seventh Son\n",
      "\n",
      "Enter number of the selected folder: 0\n",
      " \n",
      "Choose a folder from the below list:\n",
      "0) Led Zeppelin - Led Zeppelin IV (1971) [FLAC] {Deluxe Edition, 24-96, Highresaudio}\n",
      "1) Led Zeppelin - Led Zeppelin II 1969 HIGHRESAUDIO 96\n",
      "2) Led Zeppelin - Led Zeppelin 1969 HIGHRESAUDIO 96\n",
      "\n",
      "Enter number of the selected music folder: 0\n",
      " \n",
      "\n",
      "Choose a song from the below list:\n",
      "0) Playlist with all songs in order\n",
      "1) Playlist with all songs shuffled\n",
      "2) All album glued as one continuous song\n",
      "3) 01 - Black Dog.m4a\n",
      "4) 02 - Rock And Roll.m4a\n",
      "5) 03 - The Battle Of Evermore.m4a\n",
      "6) 04 - Stairway To Heaven.m4a\n",
      "7) 05 - Misty Mountain Hop.m4a\n",
      "8) 06 - Four Sticks.m4a\n",
      "9) 07 - Going To California.m4a\n",
      "10) 08 - When The Levee Breaks.m4a\n",
      "\n",
      "Enter number of the selection: 0\n",
      "Creating playlist data, it might take some time ... \n",
      "exporting playlist to temp file ...\n",
      "Playing on VLC ...\n"
     ]
    }
   ],
   "source": [
    "artist = choose_artist(MUSIC_FOLDER)\n",
    "album = choose_album(artist['id'])\n",
    "selection_type, song_selection = choose_song(\n",
    "    parent_folder_id=album['id'] if album else artist['id']\n",
    ")\n",
    "launch_vlc_with_selection(selection_type, song_selection)"
   ]
  },
  {
   "cell_type": "code",
   "execution_count": null,
   "metadata": {},
   "outputs": [],
   "source": []
  },
  {
   "cell_type": "code",
   "execution_count": 53,
   "metadata": {},
   "outputs": [
    {
     "ename": "FileNotFoundError",
     "evalue": "[Errno 2] No such file or directory: 'escrom.pkl'",
     "output_type": "error",
     "traceback": [
      "\u001b[0;31m---------------------------------------------------------------------------\u001b[0m",
      "\u001b[0;31mFileNotFoundError\u001b[0m                         Traceback (most recent call last)",
      "\u001b[0;32m<ipython-input-53-face29e4f0aa>\u001b[0m in \u001b[0;36m<module>\u001b[0;34m\u001b[0m\n\u001b[1;32m      6\u001b[0m     \u001b[0;32mfor\u001b[0m \u001b[0mf\u001b[0m \u001b[0;32min\u001b[0m \u001b[0mdata_files\u001b[0m\u001b[0;34m:\u001b[0m\u001b[0;34m\u001b[0m\u001b[0;34m\u001b[0m\u001b[0m\n\u001b[1;32m      7\u001b[0m         \u001b[0mbytes_pkl\u001b[0m \u001b[0;34m=\u001b[0m \u001b[0mGD_SVC\u001b[0m\u001b[0;34m.\u001b[0m\u001b[0mopen_as_bytes\u001b[0m\u001b[0;34m(\u001b[0m\u001b[0mf\u001b[0m\u001b[0;34m[\u001b[0m\u001b[0;34m'id'\u001b[0m\u001b[0;34m]\u001b[0m\u001b[0;34m)\u001b[0m\u001b[0;34m\u001b[0m\u001b[0;34m\u001b[0m\u001b[0m\n\u001b[0;32m----> 8\u001b[0;31m         \u001b[0;32mwith\u001b[0m \u001b[0mopen\u001b[0m\u001b[0;34m(\u001b[0m\u001b[0;34m\"escrom.pkl\"\u001b[0m\u001b[0;34m,\u001b[0m\u001b[0;34m\"rb\"\u001b[0m\u001b[0;34m)\u001b[0m \u001b[0;32mas\u001b[0m \u001b[0mf\u001b[0m\u001b[0;34m:\u001b[0m\u001b[0;34m\u001b[0m\u001b[0;34m\u001b[0m\u001b[0m\n\u001b[0m\u001b[1;32m      9\u001b[0m             \u001b[0mfile_pkl\u001b[0m \u001b[0;34m=\u001b[0m \u001b[0mpickle\u001b[0m\u001b[0;34m.\u001b[0m\u001b[0mload\u001b[0m\u001b[0;34m(\u001b[0m\u001b[0mbytes_pkl\u001b[0m\u001b[0;34m)\u001b[0m\u001b[0;34m\u001b[0m\u001b[0;34m\u001b[0m\u001b[0m\n\u001b[1;32m     10\u001b[0m         \u001b[0;31m#file_pkl = pickle.load(bytes_pkl)\u001b[0m\u001b[0;34m\u001b[0m\u001b[0;34m\u001b[0m\u001b[0;34m\u001b[0m\u001b[0m\n",
      "\u001b[0;31mFileNotFoundError\u001b[0m: [Errno 2] No such file or directory: 'escrom.pkl'"
     ]
    }
   ],
   "source": [
    "chosen_folder = album['id'] if album else artist['id']\n",
    "files = GD_SVC.list_files_on_folder(chosen_folder)\n",
    "data_files = [f for f in files if f['name'].split('.')[-1]=='pickle']\n",
    "if len(data_files)>0:\n",
    "    pickle_files = []\n",
    "    for f in data_files:\n",
    "        bytes_pkl = GD_SVC.open_as_bytes(f['id'])\n",
    "        with open(\"escrom.pkl\",\"rb\") as f:\n",
    "            file_pkl = pickle.load(bytes_pkl)\n",
    "        #file_pkl = pickle.load(bytes_pkl)\n",
    "        pickle_files.append(file_pkl)"
   ]
  },
  {
   "cell_type": "code",
   "execution_count": 23,
   "metadata": {},
   "outputs": [
    {
     "data": {
      "text/plain": [
       "{'id': '1Oe1VwMzzLRDrQwpl40ezD8zK4VFr5_oS', 'name': 'Led Zeppelin'}"
      ]
     },
     "execution_count": 23,
     "metadata": {},
     "output_type": "execute_result"
    }
   ],
   "source": [
    "artist"
   ]
  },
  {
   "cell_type": "code",
   "execution_count": 3,
   "metadata": {},
   "outputs": [],
   "source": [
    "music_folders = GD_SVC.list_files_on_folder(MUSIC_FOLDER)"
   ]
  },
  {
   "cell_type": "code",
   "execution_count": 4,
   "metadata": {},
   "outputs": [],
   "source": [
    "CHOSEN_ALBUM = music_folders[0]"
   ]
  },
  {
   "cell_type": "code",
   "execution_count": 5,
   "metadata": {},
   "outputs": [
    {
     "data": {
      "text/plain": [
       "{'id': '1fuROMQV6D4-RyG50pClyaxN4Q6Rkxtyg', 'name': 'icono_blanco.png'}"
      ]
     },
     "execution_count": 5,
     "metadata": {},
     "output_type": "execute_result"
    }
   ],
   "source": [
    "CHOSEN_ALBUM"
   ]
  },
  {
   "cell_type": "code",
   "execution_count": 6,
   "metadata": {},
   "outputs": [],
   "source": [
    "songs = GD_SVC.list_files_on_folder(CHOSEN_ALBUM['id'])\n",
    "names = sorted([f['name'] for f in songs if f['name'].split('.')[-1] in SONG_FORMATS])"
   ]
  },
  {
   "cell_type": "code",
   "execution_count": 7,
   "metadata": {},
   "outputs": [
    {
     "data": {
      "text/plain": [
       "[]"
      ]
     },
     "execution_count": 7,
     "metadata": {},
     "output_type": "execute_result"
    }
   ],
   "source": [
    "songs"
   ]
  },
  {
   "cell_type": "code",
   "execution_count": 9,
   "metadata": {},
   "outputs": [
    {
     "data": {
      "text/plain": [
       "'/Users/data/myStreamigSvc'"
      ]
     },
     "execution_count": 9,
     "metadata": {},
     "output_type": "execute_result"
    }
   ],
   "source": [
    "os.getcwd()"
   ]
  },
  {
   "cell_type": "code",
   "execution_count": 11,
   "metadata": {},
   "outputs": [],
   "source": [
    "from googleapiclient.http import MediaFileUpload"
   ]
  },
  {
   "cell_type": "code",
   "execution_count": 13,
   "metadata": {},
   "outputs": [],
   "source": [
    "media = MediaFileUpload(\n",
    "    os.path.join(os.getcwd(),'icono_blanco.png'),\n",
    "    mimetype='image/png'\n",
    ")"
   ]
  },
  {
   "cell_type": "code",
   "execution_count": 14,
   "metadata": {},
   "outputs": [],
   "source": [
    "file_metadata = {\n",
    "    'name': 'icono_blanco.png',\n",
    "    'parents': [MUSIC_FOLDER, CHOSEN_ALBUM]\n",
    "}"
   ]
  },
  {
   "cell_type": "code",
   "execution_count": 15,
   "metadata": {},
   "outputs": [
    {
     "data": {
      "text/plain": [
       "{'name': 'icono_blanco.png',\n",
       " 'parents': ['1XS5yDT8Ym3ME0SUywRuMFm5AGxaSIzaN',\n",
       "  {'id': '1Oe1VwMzzLRDrQwpl40ezD8zK4VFr5_oS', 'name': 'Led Zeppelin'}]}"
      ]
     },
     "execution_count": 15,
     "metadata": {},
     "output_type": "execute_result"
    }
   ],
   "source": [
    "file_metadata"
   ]
  },
  {
   "cell_type": "code",
   "execution_count": null,
   "metadata": {},
   "outputs": [],
   "source": [
    "self.drive_service.files().create(\n",
    "    body=file_metadata,\n",
    "    media_body=media,\n",
    "    fields='id'\n",
    ").execute()"
   ]
  },
  {
   "cell_type": "code",
   "execution_count": 19,
   "metadata": {},
   "outputs": [
    {
     "name": "stdout",
     "output_type": "stream",
     "text": [
      "image/png\n"
     ]
    },
    {
     "data": {
      "text/plain": [
       "'1zyN09kncpMB4wkZfVfuP9ZerWWRf_O2z'"
      ]
     },
     "execution_count": 19,
     "metadata": {},
     "output_type": "execute_result"
    }
   ],
   "source": [
    "GD_SVC.upload_file(\n",
    "    full_path_to_file=os.path.join(os.getcwd(),'icono_blanco.png'),\n",
    "    drive_file_name='icono_blanco.png', \n",
    "    mimetype=None,\n",
    "    parent_folders_ids = [CHOSEN_ALBUM['id']]\n",
    ")"
   ]
  },
  {
   "cell_type": "code",
   "execution_count": 8,
   "metadata": {},
   "outputs": [
    {
     "data": {
      "text/plain": [
       "[]"
      ]
     },
     "execution_count": 8,
     "metadata": {},
     "output_type": "execute_result"
    }
   ],
   "source": [
    "names"
   ]
  },
  {
   "cell_type": "code",
   "execution_count": 8,
   "metadata": {},
   "outputs": [
    {
     "name": "stdout",
     "output_type": "stream",
     "text": [
      "No data about current album. Creating data ...\n"
     ]
    }
   ],
   "source": [
    "song_data = to_pydub_audiosegment(song_names=names, drive_songs_dict=songs)"
   ]
  },
  {
   "cell_type": "code",
   "execution_count": 9,
   "metadata": {},
   "outputs": [
    {
     "data": {
      "text/plain": [
       "{'01 - The Leper Affinity': <pydub.audio_segment.AudioSegment at 0x110fccc90>}"
      ]
     },
     "execution_count": 9,
     "metadata": {},
     "output_type": "execute_result"
    }
   ],
   "source": [
    "song_data"
   ]
  },
  {
   "cell_type": "code",
   "execution_count": 10,
   "metadata": {},
   "outputs": [],
   "source": [
    "from tempfile import TemporaryDirectory\n",
    "import pickle \n",
    "import os"
   ]
  },
  {
   "cell_type": "code",
   "execution_count": 13,
   "metadata": {},
   "outputs": [],
   "source": [
    "with TemporaryDirectory() as td:\n",
    "    with open(os.path.join(td,'songs_data.pickle'), 'wb') as handle:\n",
    "        pickle.dump(song_data, handle)\n",
    "\n",
    "    GD_SVC.upload_file(\n",
    "        full_path_to_file=os.path.join(td,'songs_data.pickle'),\n",
    "        drive_file_name='songs_data.pickle', \n",
    "        mimetype=None,\n",
    "        parent_folders_ids = [MUSIC_FOLDER, CHOSEN_ALBUM]\n",
    "    )"
   ]
  },
  {
   "cell_type": "code",
   "execution_count": 11,
   "metadata": {},
   "outputs": [],
   "source": [
    "song_info = get_songs_audio_segments(song_names=names, files_inside_drive=songs)"
   ]
  },
  {
   "cell_type": "code",
   "execution_count": 12,
   "metadata": {},
   "outputs": [],
   "source": [
    "song_info"
   ]
  },
  {
   "cell_type": "code",
   "execution_count": 59,
   "metadata": {
    "scrolled": false
   },
   "outputs": [
    {
     "name": "stdout",
     "output_type": "stream",
     "text": [
      "Choose a folder from the below list:\n",
      "0) Opeth\n",
      "1) Pink Floyd - The Wall [MFSL 1991] (1979) FLAC\n",
      "2) Iron Maiden - Seventh Son of a Seventh Son\n",
      "\n",
      "Enter number of the selected music folder: 0\n",
      " \n",
      "\n",
      "Choose a song from the below list:\n",
      "0) Playlist with all songs\n",
      "1) All album glued as one continuous song\n",
      "2) 01 - The Leper Affinity.flac\n",
      "3) 01 - The Leper Affinity.m4a\n",
      "\n",
      "Enter number of the selection: 2\n",
      " \n"
     ]
    }
   ],
   "source": [
    "album_chosen = choose_album_folder(parent_folder_id=music_folder)\n",
    "song_chosen = choose_song(album_chosen['id'])"
   ]
  },
  {
   "cell_type": "code",
   "execution_count": 60,
   "metadata": {},
   "outputs": [
    {
     "data": {
      "text/plain": [
       "{'id': '1Hd4xLYPw4m3fv73dwjWI_tIXrqqfhD4Q', 'name': 'Opeth'}"
      ]
     },
     "execution_count": 60,
     "metadata": {},
     "output_type": "execute_result"
    }
   ],
   "source": [
    "song_chosen"
   ]
  },
  {
   "cell_type": "code",
   "execution_count": 25,
   "metadata": {},
   "outputs": [],
   "source": [
    "files_inside = drive_svc.files().list(\n",
    "    q = \"'{folderId}' in parents\".format(folderId=choice['id']),\n",
    "    #q=\"mimeType='image/jpeg'\",\n",
    "    spaces='drive',\n",
    "    fields='nextPageToken, files(id, name)',\n",
    "    pageToken=None\n",
    ").execute()"
   ]
  },
  {
   "cell_type": "code",
   "execution_count": 26,
   "metadata": {
    "scrolled": true
   },
   "outputs": [],
   "source": [
    "#song_formats = ['flac', 'm4a', 'mp3', 'wav']\n",
    "song_formats = ['m4a']\n",
    "names = sorted([f['name'] for f in files_inside['files'] if f['name'].split('.')[-1] in song_formats])"
   ]
  },
  {
   "cell_type": "code",
   "execution_count": 27,
   "metadata": {},
   "outputs": [
    {
     "data": {
      "text/plain": [
       "['01 - The Leper Affinity.m4a']"
      ]
     },
     "execution_count": 27,
     "metadata": {},
     "output_type": "execute_result"
    }
   ],
   "source": [
    "names"
   ]
  },
  {
   "cell_type": "code",
   "execution_count": 28,
   "metadata": {},
   "outputs": [],
   "source": [
    "files = {}\n",
    "for n in names:\n",
    "    for f in files_inside['files']:\n",
    "        if f['name'] == n:\n",
    "            \n",
    "            song_name = n.split('.')[0]\n",
    "            file_fmt = n.split('.')[-1]\n",
    "            \n",
    "            file_data = gdrive_open_file(file_id=f['id'])\n",
    "            song = AudioSegment.from_file(\n",
    "                io.BytesIO(file_data), \n",
    "                format=file_fmt\n",
    "            )\n",
    "            files[song_name] = song"
   ]
  },
  {
   "cell_type": "code",
   "execution_count": 29,
   "metadata": {},
   "outputs": [
    {
     "data": {
      "text/plain": [
       "dict_keys(['01 - The Leper Affinity'])"
      ]
     },
     "execution_count": 29,
     "metadata": {},
     "output_type": "execute_result"
    }
   ],
   "source": [
    "files.keys()"
   ]
  },
  {
   "cell_type": "code",
   "execution_count": 33,
   "metadata": {
    "scrolled": true
   },
   "outputs": [
    {
     "name": "stdout",
     "output_type": "stream",
     "text": [
      "exporting playlist to temp file ...\n",
      "Playing on VLC ...\n"
     ]
    },
    {
     "ename": "KeyboardInterrupt",
     "evalue": "",
     "output_type": "error",
     "traceback": [
      "\u001b[0;31m---------------------------------------------------------------------------\u001b[0m",
      "\u001b[0;31mKeyboardInterrupt\u001b[0m                         Traceback (most recent call last)",
      "\u001b[0;32m<ipython-input-33-8da4f49a6400>\u001b[0m in \u001b[0;36m<module>\u001b[0;34m\u001b[0m\n\u001b[0;32m----> 1\u001b[0;31m \u001b[0mplay_files_as_playlist\u001b[0m\u001b[0;34m(\u001b[0m\u001b[0mfiles\u001b[0m\u001b[0;34m)\u001b[0m\u001b[0;34m\u001b[0m\u001b[0;34m\u001b[0m\u001b[0m\n\u001b[0m",
      "\u001b[0;32m<ipython-input-32-13a396bed3d6>\u001b[0m in \u001b[0;36mplay_files_as_playlist\u001b[0;34m(files)\u001b[0m\n\u001b[1;32m     52\u001b[0m        \u001b[0mprint\u001b[0m\u001b[0;34m(\u001b[0m\u001b[0;34m'Playing on VLC ...'\u001b[0m\u001b[0;34m)\u001b[0m\u001b[0;34m\u001b[0m\u001b[0;34m\u001b[0m\u001b[0m\n\u001b[1;32m     53\u001b[0m        proc = subprocess.call(\n\u001b[0;32m---> 54\u001b[0;31m            \u001b[0;34m[\u001b[0m\u001b[0;34m\"/Applications/VLC.app/Contents/MacOS/VLC\"\u001b[0m\u001b[0;34m,\u001b[0m \u001b[0mplaylist\u001b[0m\u001b[0;34m.\u001b[0m\u001b[0mname\u001b[0m\u001b[0;34m]\u001b[0m\u001b[0;34m\u001b[0m\u001b[0;34m\u001b[0m\u001b[0m\n\u001b[0m\u001b[1;32m     55\u001b[0m        )\n",
      "\u001b[0;32m~/opt/anaconda3/envs/music/lib/python3.7/subprocess.py\u001b[0m in \u001b[0;36mcall\u001b[0;34m(timeout, *popenargs, **kwargs)\u001b[0m\n\u001b[1;32m    339\u001b[0m     \u001b[0;32mwith\u001b[0m \u001b[0mPopen\u001b[0m\u001b[0;34m(\u001b[0m\u001b[0;34m*\u001b[0m\u001b[0mpopenargs\u001b[0m\u001b[0;34m,\u001b[0m \u001b[0;34m**\u001b[0m\u001b[0mkwargs\u001b[0m\u001b[0;34m)\u001b[0m \u001b[0;32mas\u001b[0m \u001b[0mp\u001b[0m\u001b[0;34m:\u001b[0m\u001b[0;34m\u001b[0m\u001b[0;34m\u001b[0m\u001b[0m\n\u001b[1;32m    340\u001b[0m         \u001b[0;32mtry\u001b[0m\u001b[0;34m:\u001b[0m\u001b[0;34m\u001b[0m\u001b[0;34m\u001b[0m\u001b[0m\n\u001b[0;32m--> 341\u001b[0;31m             \u001b[0;32mreturn\u001b[0m \u001b[0mp\u001b[0m\u001b[0;34m.\u001b[0m\u001b[0mwait\u001b[0m\u001b[0;34m(\u001b[0m\u001b[0mtimeout\u001b[0m\u001b[0;34m=\u001b[0m\u001b[0mtimeout\u001b[0m\u001b[0;34m)\u001b[0m\u001b[0;34m\u001b[0m\u001b[0;34m\u001b[0m\u001b[0m\n\u001b[0m\u001b[1;32m    342\u001b[0m         \u001b[0;32mexcept\u001b[0m\u001b[0;34m:\u001b[0m  \u001b[0;31m# Including KeyboardInterrupt, wait handled that.\u001b[0m\u001b[0;34m\u001b[0m\u001b[0;34m\u001b[0m\u001b[0m\n\u001b[1;32m    343\u001b[0m             \u001b[0mp\u001b[0m\u001b[0;34m.\u001b[0m\u001b[0mkill\u001b[0m\u001b[0;34m(\u001b[0m\u001b[0;34m)\u001b[0m\u001b[0;34m\u001b[0m\u001b[0;34m\u001b[0m\u001b[0m\n",
      "\u001b[0;32m~/opt/anaconda3/envs/music/lib/python3.7/subprocess.py\u001b[0m in \u001b[0;36mwait\u001b[0;34m(self, timeout)\u001b[0m\n\u001b[1;32m   1017\u001b[0m             \u001b[0mendtime\u001b[0m \u001b[0;34m=\u001b[0m \u001b[0m_time\u001b[0m\u001b[0;34m(\u001b[0m\u001b[0;34m)\u001b[0m \u001b[0;34m+\u001b[0m \u001b[0mtimeout\u001b[0m\u001b[0;34m\u001b[0m\u001b[0;34m\u001b[0m\u001b[0m\n\u001b[1;32m   1018\u001b[0m         \u001b[0;32mtry\u001b[0m\u001b[0;34m:\u001b[0m\u001b[0;34m\u001b[0m\u001b[0;34m\u001b[0m\u001b[0m\n\u001b[0;32m-> 1019\u001b[0;31m             \u001b[0;32mreturn\u001b[0m \u001b[0mself\u001b[0m\u001b[0;34m.\u001b[0m\u001b[0m_wait\u001b[0m\u001b[0;34m(\u001b[0m\u001b[0mtimeout\u001b[0m\u001b[0;34m=\u001b[0m\u001b[0mtimeout\u001b[0m\u001b[0;34m)\u001b[0m\u001b[0;34m\u001b[0m\u001b[0;34m\u001b[0m\u001b[0m\n\u001b[0m\u001b[1;32m   1020\u001b[0m         \u001b[0;32mexcept\u001b[0m \u001b[0mKeyboardInterrupt\u001b[0m\u001b[0;34m:\u001b[0m\u001b[0;34m\u001b[0m\u001b[0;34m\u001b[0m\u001b[0m\n\u001b[1;32m   1021\u001b[0m             \u001b[0;31m# https://bugs.python.org/issue25942\u001b[0m\u001b[0;34m\u001b[0m\u001b[0;34m\u001b[0m\u001b[0;34m\u001b[0m\u001b[0m\n",
      "\u001b[0;32m~/opt/anaconda3/envs/music/lib/python3.7/subprocess.py\u001b[0m in \u001b[0;36m_wait\u001b[0;34m(self, timeout)\u001b[0m\n\u001b[1;32m   1651\u001b[0m                         \u001b[0;32mif\u001b[0m \u001b[0mself\u001b[0m\u001b[0;34m.\u001b[0m\u001b[0mreturncode\u001b[0m \u001b[0;32mis\u001b[0m \u001b[0;32mnot\u001b[0m \u001b[0;32mNone\u001b[0m\u001b[0;34m:\u001b[0m\u001b[0;34m\u001b[0m\u001b[0;34m\u001b[0m\u001b[0m\n\u001b[1;32m   1652\u001b[0m                             \u001b[0;32mbreak\u001b[0m  \u001b[0;31m# Another thread waited.\u001b[0m\u001b[0;34m\u001b[0m\u001b[0;34m\u001b[0m\u001b[0m\n\u001b[0;32m-> 1653\u001b[0;31m                         \u001b[0;34m(\u001b[0m\u001b[0mpid\u001b[0m\u001b[0;34m,\u001b[0m \u001b[0msts\u001b[0m\u001b[0;34m)\u001b[0m \u001b[0;34m=\u001b[0m \u001b[0mself\u001b[0m\u001b[0;34m.\u001b[0m\u001b[0m_try_wait\u001b[0m\u001b[0;34m(\u001b[0m\u001b[0;36m0\u001b[0m\u001b[0;34m)\u001b[0m\u001b[0;34m\u001b[0m\u001b[0;34m\u001b[0m\u001b[0m\n\u001b[0m\u001b[1;32m   1654\u001b[0m                         \u001b[0;31m# Check the pid and loop as waitpid has been known to\u001b[0m\u001b[0;34m\u001b[0m\u001b[0;34m\u001b[0m\u001b[0;34m\u001b[0m\u001b[0m\n\u001b[1;32m   1655\u001b[0m                         \u001b[0;31m# return 0 even without WNOHANG in odd situations.\u001b[0m\u001b[0;34m\u001b[0m\u001b[0;34m\u001b[0m\u001b[0;34m\u001b[0m\u001b[0m\n",
      "\u001b[0;32m~/opt/anaconda3/envs/music/lib/python3.7/subprocess.py\u001b[0m in \u001b[0;36m_try_wait\u001b[0;34m(self, wait_flags)\u001b[0m\n\u001b[1;32m   1609\u001b[0m             \u001b[0;34m\"\"\"All callers to this function MUST hold self._waitpid_lock.\"\"\"\u001b[0m\u001b[0;34m\u001b[0m\u001b[0;34m\u001b[0m\u001b[0m\n\u001b[1;32m   1610\u001b[0m             \u001b[0;32mtry\u001b[0m\u001b[0;34m:\u001b[0m\u001b[0;34m\u001b[0m\u001b[0;34m\u001b[0m\u001b[0m\n\u001b[0;32m-> 1611\u001b[0;31m                 \u001b[0;34m(\u001b[0m\u001b[0mpid\u001b[0m\u001b[0;34m,\u001b[0m \u001b[0msts\u001b[0m\u001b[0;34m)\u001b[0m \u001b[0;34m=\u001b[0m \u001b[0mos\u001b[0m\u001b[0;34m.\u001b[0m\u001b[0mwaitpid\u001b[0m\u001b[0;34m(\u001b[0m\u001b[0mself\u001b[0m\u001b[0;34m.\u001b[0m\u001b[0mpid\u001b[0m\u001b[0;34m,\u001b[0m \u001b[0mwait_flags\u001b[0m\u001b[0;34m)\u001b[0m\u001b[0;34m\u001b[0m\u001b[0;34m\u001b[0m\u001b[0m\n\u001b[0m\u001b[1;32m   1612\u001b[0m             \u001b[0;32mexcept\u001b[0m \u001b[0mChildProcessError\u001b[0m\u001b[0;34m:\u001b[0m\u001b[0;34m\u001b[0m\u001b[0;34m\u001b[0m\u001b[0m\n\u001b[1;32m   1613\u001b[0m                 \u001b[0;31m# This happens if SIGCLD is set to be ignored or waiting\u001b[0m\u001b[0;34m\u001b[0m\u001b[0;34m\u001b[0m\u001b[0;34m\u001b[0m\u001b[0m\n",
      "\u001b[0;31mKeyboardInterrupt\u001b[0m: "
     ]
    }
   ],
   "source": [
    "play_files_as_playlist(files)"
   ]
  },
  {
   "cell_type": "code",
   "execution_count": null,
   "metadata": {},
   "outputs": [],
   "source": []
  }
 ],
 "metadata": {
  "kernelspec": {
   "display_name": "Python 3",
   "language": "python",
   "name": "python3"
  },
  "language_info": {
   "codemirror_mode": {
    "name": "ipython",
    "version": 3
   },
   "file_extension": ".py",
   "mimetype": "text/x-python",
   "name": "python",
   "nbconvert_exporter": "python",
   "pygments_lexer": "ipython3",
   "version": "3.7.7"
  }
 },
 "nbformat": 4,
 "nbformat_minor": 4
}
